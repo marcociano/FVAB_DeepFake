{
 "cells": [
  {
   "cell_type": "code",
   "execution_count": 5,
   "id": "b1a46f4f-6e2e-4e42-80e6-33a195ad8b50",
   "metadata": {},
   "outputs": [],
   "source": [
    "import os\n",
    "import pandas as pd"
   ]
  },
  {
   "cell_type": "code",
   "execution_count": 6,
   "id": "b3dec27b-3cfc-48f7-8401-c0d8b9e7dac2",
   "metadata": {},
   "outputs": [],
   "source": [
    "# Percorso del file CSV corretto\n",
    "csv_file_path = 'fake_image_dataset_biggan_latent_taming.csv'\n",
    "\n",
    "# Percorso della directory delle immagini BigGAN\n",
    "biggan_spectrum_path = os.path.join(\"dataset\", \"big_gan\", \"big\", \"biggan-spectrum\")\n",
    "\n",
    "# Leggi il file CSV\n",
    "df = pd.read_csv(csv_file_path)\n",
    "\n",
    "# Verifica se ci sono le colonne \"Anchor\", \"Positive\", e \"Negative\"\n",
    "columns = df.columns"
   ]
  },
  {
   "cell_type": "code",
   "execution_count": 8,
   "id": "122d96ba-ed09-4832-9bed-cb92eb1717a4",
   "metadata": {
    "tags": []
   },
   "outputs": [
    {
     "name": "stdout",
     "output_type": "stream",
     "text": [
      "Anchor images: 9465\n",
      "Total BigGAN images found: 10000\n",
      "Total filtered BigGAN images: 6834\n",
      "Total selected BigGAN images: 500\n",
      "I percorsi delle immagini sono stati salvati in test_set_biggan_2train.csv\n"
     ]
    }
   ],
   "source": [
    "if 'Anchor' in columns:\n",
    "    # Estrai i percorsi delle immagini dalle colonne \"Anchor\", \"Positive\", e \"Negative\"\n",
    "    anchor_images = set(df['Anchor'].dropna())\n",
    "    \n",
    "    # Combina tutti i percorsi delle immagini in un unico set\n",
    "    all_excluded_images = anchor_images\n",
    "\n",
    "    print(f\"Anchor images: {len(anchor_images)}\")\n",
    "\n",
    "    # Lista per salvare i percorsi delle immagini da BigGAN\n",
    "    biggan_images = []\n",
    "    \n",
    "   # Aggiungi il percorso completo alla lista delle immagini, escludendo i file e le directory nascoste\n",
    "    for root, dirs, files in os.walk(biggan_spectrum_path):\n",
    "        dirs[:] = [d for d in dirs if not d.startswith('.')]\n",
    "        for file in files:\n",
    "            if not file.startswith('.'):  # Ignora i file nascosti\n",
    "                image_path = os.path.join(root, file)\n",
    "                biggan_images.append(image_path)\n",
    "                \n",
    "    print(f\"Total BigGAN images found: {len(biggan_images)}\")\n",
    "\n",
    "    # Filtra i percorsi delle immagini per escludere quelli presenti in all_excluded_images\n",
    "    filtered_images = [img for img in biggan_images if img not in all_excluded_images]\n",
    "\n",
    "    print(f\"Total filtered BigGAN images: {len(filtered_images)}\")\n",
    "\n",
    "    # Seleziona 500 percorsi di immagini tra quelli rimanenti\n",
    "    selected_images = filtered_images[:500]\n",
    "\n",
    "    print(f\"Total selected BigGAN images: {len(selected_images)}\")\n",
    "\n",
    "    # Salva i percorsi delle immagini in un file CSV\n",
    "    output_csv_path = 'test_set_biggan_2train.csv'\n",
    "    pd.DataFrame(selected_images).to_csv(output_csv_path, index=False, header = None)\n",
    "    \n",
    "    print(f\"I percorsi delle immagini sono stati salvati in {output_csv_path}\")\n",
    "else:\n",
    "    print(\"Le colonne 'Anchor', 'Positive' e 'Negative' non sono presenti nel file CSV.\")"
   ]
  },
  {
   "cell_type": "code",
   "execution_count": null,
   "id": "1debc7b9-1376-4258-a253-769cd7e9d523",
   "metadata": {},
   "outputs": [],
   "source": []
  }
 ],
 "metadata": {
  "kernelspec": {
   "display_name": "Python 3 (ipykernel)",
   "language": "python",
   "name": "python3"
  },
  "language_info": {
   "codemirror_mode": {
    "name": "ipython",
    "version": 3
   },
   "file_extension": ".py",
   "mimetype": "text/x-python",
   "name": "python",
   "nbconvert_exporter": "python",
   "pygments_lexer": "ipython3",
   "version": "3.11.9"
  }
 },
 "nbformat": 4,
 "nbformat_minor": 5
}
