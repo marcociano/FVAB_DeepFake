{
 "cells": [
  {
   "cell_type": "code",
   "execution_count": 1,
   "id": "7e787bcc-e3e7-41ab-af26-3ca4acdd1a23",
   "metadata": {
    "editable": true,
    "slideshow": {
     "slide_type": ""
    },
    "tags": []
   },
   "outputs": [],
   "source": [
    "import os\n",
    "import cv2\n",
    "import numpy as np\n",
    "import matplotlib.pyplot as plt\n",
    "from scipy.ndimage import gaussian_filter, median_filter\n",
    "from numpy.fft import fft2, fftshift\n",
    "from tqdm import tqdm\n",
    "from skimage.restoration import (\n",
    "    denoise_tv_chambolle,\n",
    "    denoise_bilateral,\n",
    "    denoise_wavelet,\n",
    "    estimate_sigma,\n",
    ")"
   ]
  },
  {
   "cell_type": "code",
   "execution_count": 2,
   "id": "1c149819-d098-461b-8ef4-1d7102daa6a2",
   "metadata": {
    "editable": true,
    "slideshow": {
     "slide_type": ""
    },
    "tags": []
   },
   "outputs": [],
   "source": [
    "# Funzione per la trasformata di Fourier e la visualizzazione dello spettro\n",
    "def fourier_transform(image):\n",
    "    # Calcola la trasformata di Fourier\n",
    "    f_transform = np.fft.fft2(image)\n",
    "    f_shift = np.fft.fftshift(f_transform)\n",
    "    \n",
    "    # Calcola lo spettro di magnitudine\n",
    "    magnitude_spectrum = 20 * np.log(np.abs(f_shift))\n",
    "\n",
    "    return magnitude_spectrum"
   ]
  },
  {
   "cell_type": "markdown",
   "id": "3d92f134-479f-4dda-b5d2-3cc9eb3992c5",
   "metadata": {},
   "source": [
    "\n",
    "\n",
    "\n",
    "Traslo le immagini dal dominio spaziale al dominio delle frequenze attraverso la trasformata di Fourier"
   ]
  },
  {
   "cell_type": "code",
   "execution_count": 3,
   "id": "62c8b703-0b98-40d2-bfd9-7136d3e44f17",
   "metadata": {
    "scrolled": true
   },
   "outputs": [],
   "source": [
    "# Funzione per elaborare tutte le immagini nelle sotto-cartelle\n",
    "def process_images_in_subfolders(input_folder, output_folder):\n",
    "    # Trova tutte le immagini nei percorsi specificati\n",
    "    image_files = []\n",
    "    for root, dirs, files in os.walk(input_folder):\n",
    "        for file_name in files:\n",
    "            if file_name.endswith(\".jpg\"):\n",
    "                image_files.append(os.path.join(root, file_name))\n",
    "\n",
    "    # Inizializza la barra di avanzamento con il numero totale di immagini\n",
    "    with tqdm(total=len(image_files), desc=\"Images processing...\") as pbar:\n",
    "        # Ciclo attraverso tutte le immagini e le elabora\n",
    "        for image_path in image_files:\n",
    "            # Carica l'immagine\n",
    "            image = cv2.imread(image_path, cv2.IMREAD_GRAYSCALE)\n",
    "\n",
    "            # Applico il filtro gaussiano per effettuare il denoising dell'immagine\n",
    "            currentResidual = image - gaussian_filter(image, sigma=50)\n",
    "            \n",
    "            # Applica la trasformata di Fourier\n",
    "            spectrum = fourier_transform(currentResidual)\n",
    "            \n",
    "            # Crea il percorso di output mantenendo la struttura delle sotto-cartelle\n",
    "            relative_path = os.path.relpath(os.path.dirname(image_path), input_folder)\n",
    "            output_subfolder = os.path.join(output_folder, relative_path)\n",
    "            output_path = os.path.join(output_subfolder, os.path.basename(image_path))\n",
    "            \n",
    "            # Controlla se la sotto-cartella di output esiste, altrimenti lòa crea\n",
    "            if not os.path.exists(output_subfolder):\n",
    "                os.makedirs(output_subfolder)\n",
    "            \n",
    "            # Salva l'immagine nello spazio delle frequenze\n",
    "            cv2.imwrite(output_path, spectrum)\n",
    "            \n",
    "            # Aggiorna la barra di avanzamento\n",
    "            pbar.update(1)"
   ]
  },
  {
   "cell_type": "code",
   "execution_count": 4,
   "id": "ed48b966-407b-4620-8b4f-38f3d1a327b8",
   "metadata": {},
   "outputs": [],
   "source": [
    "# Ottiene il percorso corrente dello script\n",
    "current_dir = os.getcwd()"
   ]
  },
  {
   "cell_type": "markdown",
   "id": "0f779756-b548-427d-a5c3-83da37f309cb",
   "metadata": {},
   "source": [
    "# Big Gan Images"
   ]
  },
  {
   "cell_type": "markdown",
   "id": "abd3a31c-4385-4489-9657-242cf87f708f",
   "metadata": {},
   "source": [
    "## Fourier transform for images in the follow path \"big_gan/big/biggan-data\""
   ]
  },
  {
   "cell_type": "code",
   "execution_count": 5,
   "id": "6c394c3e-6eea-45df-a7c3-260be43b70d5",
   "metadata": {},
   "outputs": [
    {
     "name": "stderr",
     "output_type": "stream",
     "text": [
      "Images processing...: 100%|██████████████████████████████████████████████████████| 10000/10000 [02:28<00:00, 67.33it/s]\n"
     ]
    }
   ],
   "source": [
    "# Cartella contenente le immagini create con la BigGAN\n",
    "input_folder = os.path.join(current_dir, \"dataset\", \"big_gan\", \"big\", \"biggan-data\")\n",
    "\n",
    "# Cartella di destinazione per le immagini nello spazio delle frequenze; \n",
    "# ho creato la cartella biggan-spectrum, la quale mantiene la stessa gerarchia della cartella\n",
    "# contenente le immagini prima della trasformazione\n",
    "output_folder = os.path.join(current_dir, \"dataset\", \"big_gan\", \"big\", \"biggan-spectrum\")\n",
    "\n",
    "# Controlla che la cartella di destinazione esiste, altrimenti la crea\n",
    "if not os.path.exists(output_folder):\n",
    "    os.makedirs(output_folder)\n",
    "\n",
    "# Elabora tutte le immagini nelle sotto-cartelle\n",
    "process_images_in_subfolders(input_folder, output_folder)"
   ]
  },
  {
   "cell_type": "markdown",
   "id": "6a167758-a1c1-4917-b40b-2d80ede979a8",
   "metadata": {},
   "source": [
    "# Taming Transformer Images"
   ]
  },
  {
   "cell_type": "markdown",
   "id": "3fc9128e-56df-4599-885f-3507a6ebd647",
   "metadata": {},
   "source": [
    "## Fourier transform for images in the follow path \"taming_transformer/tt-cc/cin_k600_p1.0_a0.05_fid5.20\""
   ]
  },
  {
   "cell_type": "code",
   "execution_count": 6,
   "id": "90b0ba7a-7c3b-4bcf-886a-1bfd74108e89",
   "metadata": {},
   "outputs": [
    {
     "name": "stderr",
     "output_type": "stream",
     "text": [
      "Images processing...: 100%|██████████████████████████████████████████████████████| 50000/50000 [12:52<00:00, 64.75it/s]\n"
     ]
    }
   ],
   "source": [
    "# Cartella contenente le immagini create con la Taming Transformer e contenute nella cartella \"cin_k600_p1.0_a0.05_fid5.20\"\n",
    "input_folder = os.path.join(current_dir, \"dataset\", \"taming_transformer\", \"tt-cc\", \"cin_k600_p1.0_a0.05_fid5.20\")\n",
    "\n",
    "# Cartella di destinazione per le immagini nello spazio delle frequenze; \n",
    "# ho creato la cartella tt-cc_spectrum, la quale mantiene la stessa gerarchia di immagini\n",
    "output_folder = os.path.join(current_dir, \"dataset\", \"taming_transformer\", \"tt-cc_spectrum\")\n",
    "\n",
    "# Controlla che la cartella di destinazione esiste, altrimenti la crea\n",
    "if not os.path.exists(output_folder):\n",
    "    os.makedirs(output_folder)\n",
    "\n",
    "# Elabora tutte le immagini nelle sotto-cartelle\n",
    "process_images_in_subfolders(input_folder, output_folder)"
   ]
  },
  {
   "cell_type": "markdown",
   "id": "4ffe659c-33ff-4e92-a366-98fae2c4a8f1",
   "metadata": {},
   "source": [
    "## Fourier transform for images in the follow path \"taming_transformer/tt-coco/samples_nopix\""
   ]
  },
  {
   "cell_type": "code",
   "execution_count": 7,
   "id": "b3ae553d-229a-418e-a457-f659f6e2035f",
   "metadata": {},
   "outputs": [
    {
     "name": "stderr",
     "output_type": "stream",
     "text": [
      "Images processing...: 100%|████████████████████████████████████████████████████████| 5000/5000 [01:21<00:00, 61.33it/s]\n"
     ]
    }
   ],
   "source": [
    "# Cartella contenente le immagini create con la Taming Transformer contenute nella cartella \"samples_nopix\"\n",
    "input_folder = os.path.join(current_dir, \"dataset\", \"taming_transformer\", \"tt-coco\", \"samples_nopix\")\n",
    "\n",
    "# Cartella di destinazione per le immagini nello spazio delle frequenze; \n",
    "# ho creato la cartella \"tt-coco_spectrum\", la quale mantiene la stessa gerarchia di immagini\n",
    "output_folder = os.path.join(current_dir, \"dataset\", \"taming_transformer\", \"tt-coco_spectrum\")\n",
    "\n",
    "# Controlla che la cartella di destinazione esiste, altrimenti la crea\n",
    "if not os.path.exists(output_folder):\n",
    "    os.makedirs(output_folder)\n",
    "\n",
    "# Elabora tutte le immagini nelle sotto-cartelle\n",
    "process_images_in_subfolders(input_folder, output_folder)"
   ]
  },
  {
   "cell_type": "markdown",
   "id": "83bda043-95a8-4dac-a3dc-7a05a0d0818c",
   "metadata": {},
   "source": [
    "## Fourier transform for images in the follow path \"taming_transformer/tt-ffhq/ffhq_k300_p1.0_fid9.6\""
   ]
  },
  {
   "cell_type": "code",
   "execution_count": 8,
   "id": "3df5b94e-f94e-43b0-ae06-cd66e7ffe05e",
   "metadata": {},
   "outputs": [
    {
     "name": "stderr",
     "output_type": "stream",
     "text": [
      "Images processing...: 100%|██████████████████████████████████████████████████████| 50000/50000 [13:27<00:00, 61.94it/s]\n"
     ]
    }
   ],
   "source": [
    "# Cartella contenente le immagini create con la Taming Transformere contenute nella cartella \"ffhq_k300_p1.0_fid9.6\"\n",
    "input_folder = os.path.join(current_dir, \"dataset\", \"taming_transformer\", \"tt-ffhq\", \"ffhq_k300_p1.0_fid9.6\")\n",
    "\n",
    "# Cartella di destinazione per le immagini nello spazio delle frequenze; \n",
    "# ho creato la cartella \"tt-ffhq_spectrum\", la quale mantiene la stessa gerarchia di immagini\n",
    "output_folder = os.path.join(current_dir, \"dataset\", \"taming_transformer\", \"tt-ffhq_spectrum\")\n",
    "\n",
    "# Controlla che la cartella di destinazione esiste, altrimenti la crea\n",
    "if not os.path.exists(output_folder):\n",
    "    os.makedirs(output_folder)\n",
    "\n",
    "# Elabora tutte le immagini nelle sotto-cartelle\n",
    "process_images_in_subfolders(input_folder, output_folder)"
   ]
  },
  {
   "cell_type": "markdown",
   "id": "b9a7374c-16d0-4fb1-ac15-93fa3656717b",
   "metadata": {},
   "source": [
    "# Latent Diffusion Images"
   ]
  },
  {
   "cell_type": "markdown",
   "id": "502659a6-b502-4946-8d65-4faee4847ed8",
   "metadata": {},
   "source": [
    "## Fourier transform for images in the follow path \"latent_diffusion/latentdiff\""
   ]
  },
  {
   "cell_type": "code",
   "execution_count": 9,
   "id": "ce53a08f-5562-4245-be34-bf4abcb4dc02",
   "metadata": {},
   "outputs": [
    {
     "name": "stderr",
     "output_type": "stream",
     "text": [
      "Images processing...: 100%|██████████████████████████████████████████████████████| 10000/10000 [02:39<00:00, 62.68it/s]\n"
     ]
    }
   ],
   "source": [
    "# Cartella contenente le immagini create con il modello Latent Diffusion contenute nella cartella \"latentdiff\"\n",
    "input_folder = os.path.join(current_dir, \"dataset\", \"latent_diffusion\", \"latentdiff\")\n",
    "\n",
    "# Cartella di destinazione per le immagini nello spazio delle frequenze; \n",
    "# ho creato la cartella \"latentdiff_spectrum\", la quale mantiene la stessa gerarchia di immagini\n",
    "output_folder = os.path.join(current_dir, \"dataset\", \"latent_diffusion\", \"latentdiff_spectrum\")\n",
    "\n",
    "# Controlla che la cartella di destinazione esiste, altrimenti la crea\n",
    "if not os.path.exists(output_folder):\n",
    "    os.makedirs(output_folder)\n",
    "\n",
    "# Elabora tutte le immagini nelle sotto-cartelle\n",
    "process_images_in_subfolders(input_folder, output_folder)"
   ]
  },
  {
   "cell_type": "markdown",
   "id": "3d28d087-6a97-4466-93aa-e39118470625",
   "metadata": {},
   "source": [
    "## Fourier transform for images in the follow path \"latent_diffusion/latentdiff-t2i/images\" "
   ]
  },
  {
   "cell_type": "code",
   "execution_count": 10,
   "id": "660b1c67-67d2-4c3d-a8c0-a73ce285ea16",
   "metadata": {},
   "outputs": [
    {
     "name": "stderr",
     "output_type": "stream",
     "text": [
      "Images processing...: 100%|██████████████████████████████████████████████████████| 10000/10000 [02:28<00:00, 67.21it/s]\n"
     ]
    }
   ],
   "source": [
    "# Cartella contenente le immagini create con il modello Latent Diffusion contenute nel percorso \"latentdiff-t2i/images\"\n",
    "input_folder = os.path.join(current_dir, \"dataset\", \"latent_diffusion\", \"latentdiff-t2i\", \"images\")\n",
    "\n",
    "# Cartella di destinazione per le immagini nello spazio delle frequenze; \n",
    "# ho creato la cartella \"latentdiff-t2i_spectrum\", la quale mantiene la stessa gerarchia di immagini\n",
    "output_folder = os.path.join(current_dir, \"dataset\", \"latent_diffusion\", \"latentdiff-t2i_spectrum\")\n",
    "\n",
    "# Controlla che la cartella di destinazione esiste, altrimenti la crea\n",
    "if not os.path.exists(output_folder):\n",
    "    os.makedirs(output_folder)\n",
    "\n",
    "# Elabora tutte le immagini nelle sotto-cartelle\n",
    "process_images_in_subfolders(input_folder, output_folder)"
   ]
  },
  {
   "cell_type": "markdown",
   "id": "d561773c-bae7-49a2-b1b1-384d084f6c1f",
   "metadata": {},
   "source": [
    "# Coco Images"
   ]
  },
  {
   "cell_type": "markdown",
   "id": "40dbfaf0-0e44-471d-a723-8b2eb92d3026",
   "metadata": {},
   "source": [
    "## Fourier transform for images in the follow path \"coco/coco2017/train2017\""
   ]
  },
  {
   "cell_type": "code",
   "execution_count": 11,
   "id": "acc75ede-aaa8-48cd-a01b-1500355fd5a6",
   "metadata": {},
   "outputs": [
    {
     "name": "stderr",
     "output_type": "stream",
     "text": [
      "Images processing...: 100%|████████████████████████████████████████████████████| 118202/118202 [29:33<00:00, 66.67it/s]\n"
     ]
    }
   ],
   "source": [
    "# Cartella contenente le immagini reali di train della cartella \"coco\"\n",
    "input_folder = os.path.join(current_dir, \"dataset\", \"coco\", \"coco\", \"coco2017\", \"train2017\")\n",
    "\n",
    "# Cartella di destinazione per le immagini nello spazio delle frequenze; \n",
    "# ho creato la cartella \"train_spectrum\", la quale mantiene la stessa gerarchia della cartella \"train2017\"\n",
    "# contenente le immagini prima della trasformazione\n",
    "output_folder = os.path.join(current_dir, \"dataset\", \"coco\", \"coco\", \"coco2017\", \"train_spectrum\")\n",
    "\n",
    "# Controlla che la cartella di destinazione esiste, altrimenti la crea\n",
    "if not os.path.exists(output_folder):\n",
    "    os.makedirs(output_folder)\n",
    "\n",
    "# Elabora tutte le immagini nelle sotto-cartelle\n",
    "process_images_in_subfolders(input_folder, output_folder)"
   ]
  },
  {
   "cell_type": "markdown",
   "id": "e393f7b4-d75a-4866-b25e-340e18841ac0",
   "metadata": {},
   "source": [
    "## Fourier transform for images in the follow path \"coco/coco2017/test2017\""
   ]
  },
  {
   "cell_type": "code",
   "execution_count": 12,
   "id": "ce0feef9-b30e-4280-a396-f7250a45ff5e",
   "metadata": {},
   "outputs": [
    {
     "name": "stderr",
     "output_type": "stream",
     "text": [
      "Images processing...:  17%|█████████▏                                             | 6774/40646 [01:43<08:36, 65.60it/s]C:\\Users\\marco\\AppData\\Local\\Temp\\ipykernel_19092\\1810576867.py:8: RuntimeWarning: divide by zero encountered in log\n",
      "  magnitude_spectrum = 20 * np.log(np.abs(f_shift))\n",
      "Images processing...: 100%|██████████████████████████████████████████████████████| 40646/40646 [10:11<00:00, 66.44it/s]\n"
     ]
    }
   ],
   "source": [
    "# Cartella contenente le immagini reali di test del percorso \"coco/coco/coco2017/test2017\"\n",
    "input_folder = os.path.join(current_dir, \"dataset\", \"coco\", \"coco\", \"coco2017\", \"test2017\")\n",
    "\n",
    "# Cartella di destinazione per le immagini nello spazio delle frequenze; \n",
    "# ho creato la cartella \"test_spectrum\", la quale mantiene la stessa gerarchia della cartella \"test2017\"\n",
    "# contenente le immagini prima della trasformazione\n",
    "output_folder = os.path.join(current_dir, \"dataset\", \"coco\", \"coco\", \"coco2017\", \"test_spectrum\")\n",
    "\n",
    "# Controlla che la cartella di destinazione esiste, altrimenti la crea\n",
    "if not os.path.exists(output_folder):\n",
    "    os.makedirs(output_folder)\n",
    "\n",
    "# Elabora tutte le immagini nelle sotto-cartelle\n",
    "process_images_in_subfolders(input_folder, output_folder)"
   ]
  },
  {
   "cell_type": "markdown",
   "id": "ad056c73-c6d9-4eb3-8ced-269355174dca",
   "metadata": {},
   "source": [
    "## Fourier transform for images in the follow path \"coco/coco2017/val2017\""
   ]
  },
  {
   "cell_type": "code",
   "execution_count": 13,
   "id": "58dd21a0-d009-4365-ad1d-8e8a3be83425",
   "metadata": {},
   "outputs": [
    {
     "name": "stderr",
     "output_type": "stream",
     "text": [
      "Images processing...: 100%|████████████████████████████████████████████████████████| 4998/4998 [01:14<00:00, 66.96it/s]\n"
     ]
    }
   ],
   "source": [
    "# Cartella contenente le immagini reali di test del percorso \"coco/coco/coco2017/val2017\"\n",
    "input_folder = os.path.join(current_dir, \"dataset\", \"coco\", \"coco\", \"coco2017\", \"val2017\")\n",
    "\n",
    "# Cartella di destinazione per le immagini nello spazio delle frequenze; \n",
    "# ho creato la cartella \"val_spectrum\", la quale mantiene la stessa gerarchia della cartella \"val2017\"\n",
    "# contenente le immagini prima della trasformazione\n",
    "output_folder = os.path.join(current_dir, \"dataset\", \"coco\", \"coco\", \"coco2017\", \"val_spectrum\")\n",
    "\n",
    "# Controlla che la cartella di destinazione esiste, altrimenti la crea\n",
    "if not os.path.exists(output_folder):\n",
    "    os.makedirs(output_folder)\n",
    "\n",
    "# Elabora tutte le immagini nelle sotto-cartelle\n",
    "process_images_in_subfolders(input_folder, output_folder)"
   ]
  },
  {
   "cell_type": "markdown",
   "id": "0db930fb-8f84-4e91-97fd-afc252bcd7a0",
   "metadata": {},
   "source": [
    "# Cycle Gan Images"
   ]
  },
  {
   "cell_type": "markdown",
   "id": "0a8d4a18-feaf-44de-ae56-66a62a19d8e8",
   "metadata": {},
   "source": [
    "## Fourier transform for images in the follow path \"cycle_gan/st/horse2zebra\""
   ]
  },
  {
   "cell_type": "code",
   "execution_count": 5,
   "id": "e33f0cf6-d54b-4aad-9ff4-9f4da4a77d36",
   "metadata": {},
   "outputs": [
    {
     "name": "stderr",
     "output_type": "stream",
     "text": [
      "Images processing...: 100%|████████████████████████████████████████████████████████| 5322/5322 [01:37<00:00, 54.54it/s]\n"
     ]
    }
   ],
   "source": [
    "# Cartella contenente le immagini del modello cycle gan contenute nel percorso \"cycle_gan/st/horse2zebra\"\n",
    "input_folder = os.path.join(current_dir, \"dataset\", \"cycle_gan\", \"st\", \"horse2zebra\")\n",
    "\n",
    "# Cartella di destinazione per le immagini nello spazio delle frequenze; \n",
    "# ho creato la cartella \"horse2zebra_spectrum\", la quale mantiene la stessa gerarchia della cartella \"horse2zebra\"\n",
    "# contenente le immagini prima della trasformazione\n",
    "output_folder = os.path.join(current_dir, \"dataset\", \"cycle_gan\", \"st\", \"horse2zebra_spectrum\")\n",
    "\n",
    "# Controlla che la cartella di destinazione esiste, altrimenti la crea\n",
    "if not os.path.exists(output_folder):\n",
    "    os.makedirs(output_folder)\n",
    "\n",
    "# Elabora tutte le immagini nelle sotto-cartelle\n",
    "process_images_in_subfolders(input_folder, output_folder)"
   ]
  },
  {
   "cell_type": "markdown",
   "id": "a1b6db17-0a6f-46a1-9ab8-94e5702d6919",
   "metadata": {},
   "source": [
    "## Fourier transform for images in the follow path \"cycle_gan/st/monet2photo\""
   ]
  },
  {
   "cell_type": "code",
   "execution_count": 6,
   "id": "be17728f-6ca7-4d89-ac34-c75bcf2163fa",
   "metadata": {},
   "outputs": [
    {
     "name": "stderr",
     "output_type": "stream",
     "text": [
      "Images processing...: 100%|████████████████████████████████████████████████████████| 2386/2386 [00:43<00:00, 54.78it/s]\n"
     ]
    }
   ],
   "source": [
    "# Cartella contenente le immagini del modello cycle gan contenute nel percorso \"cycle_gan/st/monet2photo\"\n",
    "input_folder = os.path.join(current_dir, \"dataset\", \"cycle_gan\", \"st\", \"monet2photo\")\n",
    "\n",
    "# Cartella di destinazione per le immagini nello spazio delle frequenze; \n",
    "# ho creato la cartella \"monet2photo_spectrum\", la quale mantiene la stessa gerarchia della cartella \"monet2photo\"\n",
    "# contenente le immagini prima della trasformazione\n",
    "output_folder = os.path.join(current_dir, \"dataset\", \"cycle_gan\", \"st\", \"monet2photo_spectrum\")\n",
    "\n",
    "# Controlla che la cartella di destinazione esiste, altrimenti la crea\n",
    "if not os.path.exists(output_folder):\n",
    "    os.makedirs(output_folder)\n",
    "\n",
    "# Elabora tutte le immagini nelle sotto-cartelle\n",
    "process_images_in_subfolders(input_folder, output_folder)"
   ]
  },
  {
   "cell_type": "markdown",
   "id": "1be67b14-f905-4a4a-b9f3-0e30b30d84bf",
   "metadata": {},
   "source": [
    "## Fourier transform for images in the follow path \"cycle_gan/st/photo2monet\""
   ]
  },
  {
   "cell_type": "code",
   "execution_count": 7,
   "id": "d99736ff-8be2-46be-9129-c68a11554348",
   "metadata": {},
   "outputs": [
    {
     "name": "stderr",
     "output_type": "stream",
     "text": [
      "Images processing...: 100%|████████████████████████████████████████████████████████| 7502/7502 [02:17<00:00, 54.61it/s]\n"
     ]
    }
   ],
   "source": [
    "# Cartella contenente le immagini del modello cycle gan contenute nel percorso \"cycle_gan/st/photo2monet\"\n",
    "input_folder = os.path.join(current_dir, \"dataset\", \"cycle_gan\", \"st\", \"photo2monet\")\n",
    "\n",
    "# Cartella di destinazione per le immagini nello spazio delle frequenze; \n",
    "# ho creato la cartella \"photo2monet_spectrum\", la quale mantiene la stessa gerarchia della cartella \"photo2monet\"\n",
    "# contenente le immagini prima della trasformazione\n",
    "output_folder = os.path.join(current_dir, \"dataset\", \"cycle_gan\", \"st\", \"photo2monet_spectrum\")\n",
    "\n",
    "# Controlla che la cartella di destinazione esiste, altrimenti la crea\n",
    "if not os.path.exists(output_folder):\n",
    "    os.makedirs(output_folder)\n",
    "\n",
    "# Elabora tutte le immagini nelle sotto-cartelle\n",
    "process_images_in_subfolders(input_folder, output_folder)"
   ]
  },
  {
   "cell_type": "markdown",
   "id": "939b886c-e700-413e-9733-b4203af36a84",
   "metadata": {},
   "source": [
    "# Diffusion Gan Images"
   ]
  },
  {
   "cell_type": "markdown",
   "id": "33451d64-cf7a-4bcd-b456-5be385243113",
   "metadata": {},
   "source": [
    "## Fourier transform for images in the follow path \"diffusion_gan/diff/afhq-data/Diffusion-StyleGAN2-ADA-AFHQ\""
   ]
  },
  {
   "cell_type": "code",
   "execution_count": 8,
   "id": "482ae518-5eac-4d60-9f82-a065970fe4f1",
   "metadata": {},
   "outputs": [
    {
     "name": "stderr",
     "output_type": "stream",
     "text": [
      "Images processing...: 100%|████████████████████████████████████████████████████████| 2000/2000 [00:35<00:00, 55.74it/s]\n"
     ]
    }
   ],
   "source": [
    "# Cartella contenente le immagini del modello cycle gan contenute nel percorso \"diffusion_gan/diff/afhq-data/Diffusion-StyleGAN2-ADA-AFHQ\"\n",
    "input_folder = os.path.join(current_dir, \"dataset\", \"diffusion_gan\", \"diff\", \"afhq-data\", \"Diffusion-StyleGAN2-ADA-AFHQ\")\n",
    "\n",
    "# Cartella di destinazione per le immagini nello spazio delle frequenze; \n",
    "# ho creato la cartella \"Diffusion-StyleGAN2-ADA-AFHQ_spectrum\", la quale mantiene la stessa gerarchia della cartella \"Diffusion-StyleGAN2-ADA-AFHQ\"\n",
    "# contenente le immagini prima della trasformazione\n",
    "output_folder = os.path.join(current_dir, \"dataset\", \"diffusion_gan\", \"diff\", \"afhq-data\", \"Diffusion-StyleGAN2-ADA-AFHQ_Spectrum\")\n",
    "\n",
    "# Controlla che la cartella di destinazione esiste, altrimenti la crea\n",
    "if not os.path.exists(output_folder):\n",
    "    os.makedirs(output_folder)\n",
    "\n",
    "# Elabora tutte le immagini nelle sotto-cartelle\n",
    "process_images_in_subfolders(input_folder, output_folder)"
   ]
  },
  {
   "cell_type": "markdown",
   "id": "1fbe5b26-0f33-4c77-b820-b9151084dad3",
   "metadata": {},
   "source": [
    "## Fourier transform for images in the follow path \"diffusion_gan/diff/afhq-data/Diffusion-StyleGAN2-AFHQ\""
   ]
  },
  {
   "cell_type": "code",
   "execution_count": 9,
   "id": "4ba6e839-9522-4cec-bad0-3da9506fe18d",
   "metadata": {},
   "outputs": [
    {
     "name": "stderr",
     "output_type": "stream",
     "text": [
      "Images processing...: 100%|████████████████████████████████████████████████████████| 2001/2001 [00:36<00:00, 55.25it/s]\n"
     ]
    }
   ],
   "source": [
    "# Cartella contenente le immagini del modello cycle gan contenute nel percorso \"diffusion_gan/diff/afhq-data/Diffusion-StyleGAN2-AFHQ\"\n",
    "input_folder = os.path.join(current_dir, \"dataset\", \"diffusion_gan\", \"diff\", \"afhq-data\", \"Diffusion-StyleGAN2-AFHQ\")\n",
    "\n",
    "# Cartella di destinazione per le immagini nello spazio delle frequenze; \n",
    "# ho creato la cartella \"Diffusion-StyleGAN2-AFHQ_spectrum\", la quale mantiene la stessa gerarchia della cartella \"Diffusion-StyleGAN2-AFHQ\"\n",
    "# contenente le immagini prima della trasformazione\n",
    "output_folder = os.path.join(current_dir, \"dataset\", \"diffusion_gan\", \"diff\", \"afhq-data\", \"Diffusion-StyleGAN2-AFHQ_Spectrum\")\n",
    "\n",
    "# Controlla che la cartella di destinazione esiste, altrimenti la crea\n",
    "if not os.path.exists(output_folder):\n",
    "    os.makedirs(output_folder)\n",
    "\n",
    "# Elabora tutte le immagini nelle sotto-cartelle\n",
    "process_images_in_subfolders(input_folder, output_folder)"
   ]
  },
  {
   "cell_type": "markdown",
   "id": "8af21995-278c-4ab6-a929-28657a3a870a",
   "metadata": {},
   "source": [
    "## Fourier transform for images in the follow path \"diffusion_gan/diff/ffhq-data/Diffusion-StyleGAN2-ADA-FFHQ\""
   ]
  },
  {
   "cell_type": "code",
   "execution_count": 10,
   "id": "3c8f1651-f24a-46c9-ae34-6fc70bb70eca",
   "metadata": {},
   "outputs": [
    {
     "name": "stderr",
     "output_type": "stream",
     "text": [
      "Images processing...: 100%|████████████████████████████████████████████████████████| 1501/1501 [00:26<00:00, 55.69it/s]\n"
     ]
    }
   ],
   "source": [
    "# Cartella contenente le immagini del modello cycle gan contenute nel percorso \"diffusion_gan/diff/ffhq-data/Diffusion-StyleGAN2-ADA-FFHQ\"\n",
    "input_folder = os.path.join(current_dir, \"dataset\", \"diffusion_gan\", \"diff\", \"ffhq-data\", \"Diffusion-StyleGAN2-ADA-FFHQ\")\n",
    "\n",
    "# Cartella di destinazione per le immagini nello spazio delle frequenze; \n",
    "# ho creato la cartella \"Diffusion-StyleGAN2-ADA-FFHQ_Spectrum\", la quale mantiene la stessa gerarchia della cartella \"Diffusion-StyleGAN2-ADA-FFHQ\"\n",
    "# contenente le immagini prima della trasformazione\n",
    "output_folder = os.path.join(current_dir, \"dataset\", \"diffusion_gan\", \"diff\", \"ffhq-data\", \"Diffusion-StyleGAN2-ADA-FFHQ_Spectrum\")\n",
    "\n",
    "# Controlla che la cartella di destinazione esiste, altrimenti la crea\n",
    "if not os.path.exists(output_folder):\n",
    "    os.makedirs(output_folder)\n",
    "\n",
    "# Elabora tutte le immagini nelle sotto-cartelle\n",
    "process_images_in_subfolders(input_folder, output_folder)"
   ]
  },
  {
   "cell_type": "markdown",
   "id": "06f47b6a-3c81-4bfe-b04d-e925e8b4d63f",
   "metadata": {},
   "source": [
    "## Fourier transform for images in the follow path \"diffusion_gan/diff/ffhq-data/Diffusion-StyleGAN2-DiffAug-FFHQ\""
   ]
  },
  {
   "cell_type": "code",
   "execution_count": 11,
   "id": "49854a54-96ff-4141-a574-90a4e2f663e8",
   "metadata": {},
   "outputs": [
    {
     "name": "stderr",
     "output_type": "stream",
     "text": [
      "Images processing...: 100%|████████████████████████████████████████████████████████| 1501/1501 [00:27<00:00, 55.42it/s]\n"
     ]
    }
   ],
   "source": [
    "# Cartella contenente le immagini del modello cycle gan contenute nel percorso \"diffusion_gan/diff/ffhq-data/Diffusion-StyleGAN2-DiffAug-FFHQ\"\n",
    "input_folder = os.path.join(current_dir, \"dataset\", \"diffusion_gan\", \"diff\", \"ffhq-data\", \"Diffusion-StyleGAN2-DiffAug-FFHQ\")\n",
    "\n",
    "# Cartella di destinazione per le immagini nello spazio delle frequenze; \n",
    "# ho creato la cartella \"Diffusion-StyleGAN2-DiffAug-FFHQ_Spectrum\", la quale mantiene la stessa gerarchia della cartella \"Diffusion-StyleGAN2-DiffAug-FFHQ\"\n",
    "# contenente le immagini prima della trasformazione\n",
    "output_folder = os.path.join(current_dir, \"dataset\", \"diffusion_gan\", \"diff\", \"ffhq-data\", \"Diffusion-StyleGAN2-DiffAug-FFHQ_Spectrum\")\n",
    "\n",
    "# Controlla che la cartella di destinazione esiste, altrimenti la crea\n",
    "if not os.path.exists(output_folder):\n",
    "    os.makedirs(output_folder)\n",
    "\n",
    "# Elabora tutte le immagini nelle sotto-cartelle\n",
    "process_images_in_subfolders(input_folder, output_folder)"
   ]
  },
  {
   "cell_type": "markdown",
   "id": "b5fc0ae3-c6b6-4280-a07f-8b9afcfcb884",
   "metadata": {},
   "source": [
    "## Fourier transform for images in the follow path \"diffusion_gan/diff/ffhq-data/Diffusion-StyleGAN2-FFHQ\""
   ]
  },
  {
   "cell_type": "code",
   "execution_count": 12,
   "id": "c4db023b-26b7-4c40-9428-21da24de3636",
   "metadata": {},
   "outputs": [
    {
     "name": "stderr",
     "output_type": "stream",
     "text": [
      "Images processing...: 100%|████████████████████████████████████████████████████████| 1500/1500 [00:27<00:00, 54.81it/s]\n"
     ]
    }
   ],
   "source": [
    "# Cartella contenente le immagini del modello cycle gan contenute nel percorso \"diffusion_gan/diff/ffhq-data/Diffusion-StyleGAN2FFHQ\"\n",
    "input_folder = os.path.join(current_dir, \"dataset\", \"diffusion_gan\", \"diff\", \"ffhq-data\", \"Diffusion-StyleGAN2-FFHQ\")\n",
    "\n",
    "# Cartella di destinazione per le immagini nello spazio delle frequenze; \n",
    "# ho creato la cartella \"Diffusion-StyleGAN2-FFHQ_Spectrum\", la quale mantiene la stessa gerarchia della cartella \"Diffusion-StyleGAN2-FFHQ\"\n",
    "# contenente le immagini prima della trasformazione\n",
    "output_folder = os.path.join(current_dir, \"dataset\", \"diffusion_gan\", \"diff\", \"ffhq-data\", \"Diffusion-StyleGAN2-FFHQ_Spectrum\")\n",
    "\n",
    "# Controlla che la cartella di destinazione esiste, altrimenti la crea\n",
    "if not os.path.exists(output_folder):\n",
    "    os.makedirs(output_folder)\n",
    "\n",
    "# Elabora tutte le immagini nelle sotto-cartelle\n",
    "process_images_in_subfolders(input_folder, output_folder)"
   ]
  },
  {
   "cell_type": "markdown",
   "id": "6718ebb8-b1eb-4f44-82fe-415b3456fa44",
   "metadata": {},
   "source": [
    "# Gansformer Images"
   ]
  },
  {
   "cell_type": "markdown",
   "id": "634b8a79-bdc4-4b2a-a6b9-b3eccf5d67d0",
   "metadata": {},
   "source": [
    "## Fourier transform for images in the follow path \"gansformer/gf/bedrooms_images\""
   ]
  },
  {
   "cell_type": "code",
   "execution_count": 13,
   "id": "7e49c74d-7992-42da-9164-6eec3017bda1",
   "metadata": {},
   "outputs": [
    {
     "name": "stderr",
     "output_type": "stream",
     "text": [
      "Images processing...: 100%|████████████████████████████████████████████████████████| 5000/5000 [01:30<00:00, 55.50it/s]\n"
     ]
    }
   ],
   "source": [
    "# Cartella contenente le immagini del modello cycle gan contenute nel percorso \"gansformer/gf/bedrooms_images\"\n",
    "input_folder = os.path.join(current_dir, \"dataset\", \"gansformer\", \"gf\", \"bedrooms_images\")\n",
    "\n",
    "# Cartella di destinazione per le immagini nello spazio delle frequenze; \n",
    "# ho creato la cartella \"bedrooms_images_Spectrum\", la quale mantiene la stessa gerarchia della cartella \"bedrooms_images\"\n",
    "# contenente le immagini prima della trasformazione\n",
    "output_folder = os.path.join(current_dir, \"dataset\", \"gansformer\", \"gf\", \"bedrooms_images_Spectrum\")\n",
    "\n",
    "# Controlla che la cartella di destinazione esiste, altrimenti la crea\n",
    "if not os.path.exists(output_folder):\n",
    "    os.makedirs(output_folder)\n",
    "\n",
    "# Elabora tutte le immagini nelle sotto-cartelle\n",
    "process_images_in_subfolders(input_folder, output_folder)"
   ]
  },
  {
   "cell_type": "markdown",
   "id": "c7d6dd58-6350-4b33-ba59-f7aa2ec3fdd7",
   "metadata": {},
   "source": [
    "## Fourier transform for images in the follow path \"gansformer/gf/ffhq_images\""
   ]
  },
  {
   "cell_type": "code",
   "execution_count": 14,
   "id": "bc873601-654e-4abf-a5a6-a350e5c3a276",
   "metadata": {},
   "outputs": [
    {
     "name": "stderr",
     "output_type": "stream",
     "text": [
      "Images processing...: 100%|████████████████████████████████████████████████████████| 5000/5000 [01:30<00:00, 55.20it/s]\n"
     ]
    }
   ],
   "source": [
    "# Cartella contenente le immagini del modello cycle gan contenute nel percorso \"gansformer/gf/ffhq_images\"\n",
    "input_folder = os.path.join(current_dir, \"dataset\", \"gansformer\", \"gf\", \"ffhq_images\")\n",
    "\n",
    "# Cartella di destinazione per le immagini nello spazio delle frequenze; \n",
    "# ho creato la cartella \"ffhq_images_Spectrum\", la quale mantiene la stessa gerarchia della cartella \"ffhq_images\"\n",
    "# contenente le immagini prima della trasformazione\n",
    "output_folder = os.path.join(current_dir, \"dataset\", \"gansformer\", \"gf\", \"ffhq_images_Spectrum\")\n",
    "\n",
    "# Controlla che la cartella di destinazione esiste, altrimenti la crea\n",
    "if not os.path.exists(output_folder):\n",
    "    os.makedirs(output_folder)\n",
    "\n",
    "# Elabora tutte le immagini nelle sotto-cartelle\n",
    "process_images_in_subfolders(input_folder, output_folder)"
   ]
  },
  {
   "cell_type": "markdown",
   "id": "feb428dc-a134-4549-a5fd-1599eb0dbf17",
   "metadata": {},
   "source": [
    "# Stable Diffusion Images"
   ]
  },
  {
   "cell_type": "markdown",
   "id": "dd977f92-627d-48aa-a32a-fe086e43c5af",
   "metadata": {},
   "source": [
    "## Fourier transform for images in the follow path \"stable_diffusion/stable/images\""
   ]
  },
  {
   "cell_type": "code",
   "execution_count": 15,
   "id": "416a5474-8aae-45ce-aed0-59eef648d5f3",
   "metadata": {},
   "outputs": [
    {
     "name": "stderr",
     "output_type": "stream",
     "text": [
      "Images processing...:   1%|▋                                                       | 224/19000 [00:04<05:36, 55.74it/s]C:\\Users\\marco\\AppData\\Local\\Temp\\ipykernel_10372\\1810576867.py:8: RuntimeWarning: divide by zero encountered in log\n",
      "  magnitude_spectrum = 20 * np.log(np.abs(f_shift))\n",
      "Images processing...: 100%|██████████████████████████████████████████████████████| 19000/19000 [05:44<00:00, 55.11it/s]\n"
     ]
    }
   ],
   "source": [
    "# Cartella contenente le immagini del modello cycle gan contenute nel percorso \"stable_diffusion/stable/images\"\n",
    "input_folder = os.path.join(current_dir, \"dataset\", \"stable_diffusion\", \"stable\", \"images\")\n",
    "\n",
    "# Cartella di destinazione per le immagini nello spazio delle frequenze; \n",
    "# ho creato la cartella \"images_spectrum\", la quale mantiene la stessa gerarchia della cartella \"images\"\n",
    "# contenente le immagini prima della trasformazione\n",
    "output_folder = os.path.join(current_dir, \"dataset\", \"stable_diffusion\", \"stable\", \"images_spectrum\")\n",
    "\n",
    "# Controlla che la cartella di destinazione esiste, altrimenti la crea\n",
    "if not os.path.exists(output_folder):\n",
    "    os.makedirs(output_folder)\n",
    "\n",
    "# Elabora tutte le immagini nelle sotto-cartelle\n",
    "process_images_in_subfolders(input_folder, output_folder)"
   ]
  },
  {
   "cell_type": "markdown",
   "id": "dbdbdb92-3266-4d08-95d9-c7d0554dcb98",
   "metadata": {},
   "source": [
    "## Fourier transform for images in the follow path \"stable_diffusion/stable-face/Male\""
   ]
  },
  {
   "cell_type": "code",
   "execution_count": 16,
   "id": "adaa99f9-de68-45a9-8503-334a99e65140",
   "metadata": {},
   "outputs": [
    {
     "name": "stderr",
     "output_type": "stream",
     "text": [
      "Images processing...: 100%|████████████████████████████████████████████████████████| 1271/1271 [00:23<00:00, 55.23it/s]\n"
     ]
    }
   ],
   "source": [
    "# Cartella contenente le immagini del modello cycle gan contenute nel percorso \"stable_diffusion/stable-face/Male\"\n",
    "input_folder = os.path.join(current_dir, \"dataset\", \"stable_diffusion\", \"stable-face\", \"Male\")\n",
    "\n",
    "# Cartella di destinazione per le immagini nello spazio delle frequenze; \n",
    "# ho creato la cartella \"Male_spectrum\", la quale mantiene la stessa gerarchia della cartella \"Male\"\n",
    "# contenente le immagini prima della trasformazione\n",
    "output_folder = os.path.join(current_dir, \"dataset\", \"stable_diffusion\", \"stable-face\", \"Male_spectrum\")\n",
    "\n",
    "# Controlla che la cartella di destinazione esiste, altrimenti la crea\n",
    "if not os.path.exists(output_folder):\n",
    "    os.makedirs(output_folder)\n",
    "\n",
    "# Elabora tutte le immagini nelle sotto-cartelle\n",
    "process_images_in_subfolders(input_folder, output_folder)"
   ]
  },
  {
   "cell_type": "markdown",
   "id": "6179e76d-fef0-4a61-a6ef-8aeaf2d29881",
   "metadata": {},
   "source": [
    "## Fourier transform for images in the follow path \"stable_diffusion/stable-face/Female\""
   ]
  },
  {
   "cell_type": "code",
   "execution_count": 17,
   "id": "4df3875e-b863-4c13-97d5-3af1c586a725",
   "metadata": {},
   "outputs": [
    {
     "name": "stderr",
     "output_type": "stream",
     "text": [
      "Images processing...: 100%|████████████████████████████████████████████████████████| 1173/1173 [00:21<00:00, 55.34it/s]\n"
     ]
    }
   ],
   "source": [
    "# Cartella contenente le immagini del modello cycle gan contenute nel percorso \"stable_diffusion/stable-face/Female\"\n",
    "input_folder = os.path.join(current_dir, \"dataset\", \"stable_diffusion\", \"stable-face\", \"Female\")\n",
    "\n",
    "# Cartella di destinazione per le immagini nello spazio delle frequenze; \n",
    "# ho creato la cartella \"Female_spectrum\", la quale mantiene la stessa gerarchia della cartella \"Female\"\n",
    "# contenente le immagini prima della trasformazione\n",
    "output_folder = os.path.join(current_dir, \"dataset\", \"stable_diffusion\", \"stable-face\", \"Female_spectrum\")\n",
    "\n",
    "# Controlla che la cartella di destinazione esiste, altrimenti la crea\n",
    "if not os.path.exists(output_folder):\n",
    "    os.makedirs(output_folder)\n",
    "\n",
    "# Elabora tutte le immagini nelle sotto-cartelle\n",
    "process_images_in_subfolders(input_folder, output_folder)"
   ]
  },
  {
   "cell_type": "code",
   "execution_count": null,
   "id": "a9ea0a69-7983-489d-b7cd-af3293177887",
   "metadata": {},
   "outputs": [],
   "source": []
  }
 ],
 "metadata": {
  "kernelspec": {
   "display_name": "Python 3 (ipykernel)",
   "language": "python",
   "name": "python3"
  },
  "language_info": {
   "codemirror_mode": {
    "name": "ipython",
    "version": 3
   },
   "file_extension": ".py",
   "mimetype": "text/x-python",
   "name": "python",
   "nbconvert_exporter": "python",
   "pygments_lexer": "ipython3",
   "version": "3.11.9"
  }
 },
 "nbformat": 4,
 "nbformat_minor": 5
}
