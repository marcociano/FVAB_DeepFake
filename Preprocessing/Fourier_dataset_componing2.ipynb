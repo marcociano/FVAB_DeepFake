{
 "cells": [
  {
   "cell_type": "markdown",
   "id": "63860f09-8177-4f03-957b-d2d1c9fa54b3",
   "metadata": {},
   "source": [
    "Nel seguente file avviene la creazione del dataset \"spectrum_train_dataset.csv\" contenente 60.000 path di immagini traslate nello spazio delle frequenze con Fourier. 30.000 path di immagini fake sono stati presi dalle cartelle \"biggan_spectrum\", latendiff_spectrum\" e \"tt-cc_spectrum\" (taming_transformer\"), e 30.000 reali sono stati presi dalla cartella \"coco\", più nello specifico dalla sotto-cartella \"train_spectrum\"."
   ]
  },
  {
   "cell_type": "code",
   "execution_count": 1,
   "id": "703f6a37-718a-4baf-b602-7ed53fc89197",
   "metadata": {},
   "outputs": [],
   "source": [
    "import pandas as pd\n",
    "import numpy as np\n",
    "import os\n",
    "import random"
   ]
  },
  {
   "cell_type": "code",
   "execution_count": 2,
   "id": "f54f91a7-1417-4bff-a0a1-5ca41495ce8d",
   "metadata": {},
   "outputs": [],
   "source": [
    "current_dir = os.getcwd()\n",
    "# Definiamo le cartelle delle immagini\n",
    "real_image_folder = os.path.join(current_dir, \"dataset\", \"coco\", \"coco\", \"coco2017\", \"train_spectrum\") #Spettri di immagini reali\n",
    "biggan_spectrum_path = os.path.join(current_dir, \"dataset\", \"big_gan\", \"big\", \"biggan-spectrum\") #Spettri di immagini generate dal modello BigGan\n",
    "latentdiff_spectrum_path = os.path.join(current_dir, \"dataset\", \"latent_diffusion\", \"latentdiff_spectrum\") #Spettri di immagini generate dal modello Latent Diffusion\n",
    "taming_transformer_spectrum_path = os.path.join(current_dir, \"dataset\", \"taming_transformer\", \"tt-cc_spectrum\") #Spettri di immagini generate dal modello Tamming Transformer\n",
    "\n",
    "fake_image_folders = [biggan_spectrum_path, latentdiff_spectrum_path, taming_transformer_spectrum_path]"
   ]
  },
  {
   "cell_type": "code",
   "execution_count": 3,
   "id": "f0d75623-b3a0-4dc2-b94f-264b02658507",
   "metadata": {},
   "outputs": [],
   "source": [
    "# Ottieniamo i percorsi relativi per le immagini reali\n",
    "real_image_paths = []\n",
    "for root, dirs, files in os.walk(real_image_folder):\n",
    "    for filename in files:\n",
    "        if filename.endswith(\".jpg\"):\n",
    "            real_image_paths.append(os.path.relpath(os.path.join(root, filename)))\n",
    "\n",
    "# Otteniamo i percorsi delle immagini per ciascuna cartella di immagini false\n",
    "biggan_image_paths = []\n",
    "for root, dirs, files in os.walk(biggan_spectrum_path):\n",
    "    for filename in files:\n",
    "        if filename.endswith(\".jpg\"):\n",
    "            biggan_image_paths.append(os.path.relpath(os.path.join(root, filename)))\n",
    "\n",
    "latentdiff_image_paths = []\n",
    "for root, dirs, files in os.walk(latentdiff_spectrum_path):\n",
    "    for filename in files:\n",
    "        if filename.endswith(\".jpg\"):\n",
    "            latentdiff_image_paths.append(os.path.relpath(os.path.join(root, filename)))\n",
    "\n",
    "taming_transformer_image_paths = []\n",
    "for root, dirs, files in os.walk(taming_transformer_spectrum_path):\n",
    "    for filename in files:\n",
    "        if filename.endswith(\".jpg\"):\n",
    "            taming_transformer_image_paths.append(os.path.relpath(os.path.join(root, filename)))"
   ]
  },
  {
   "cell_type": "code",
   "execution_count": 4,
   "id": "394bbd5a-71ec-46b4-8fd8-0779df080008",
   "metadata": {},
   "outputs": [],
   "source": [
    "real_image_paths_unique = random.sample(list(real_image_paths), 15000)\n",
    "biggan_image_paths_sample = random.sample(list(biggan_image_paths), 5000)\n",
    "latentdiff_image_paths_sample = random.sample(list(latentdiff_image_paths), 5000)\n",
    "taming_transformer_image_paths_sample = random.sample(list(taming_transformer_image_paths), 5000)"
   ]
  },
  {
   "cell_type": "code",
   "execution_count": 5,
   "id": "3801ce6b-0930-4f40-8c10-9930ba048818",
   "metadata": {},
   "outputs": [],
   "source": [
    "fake_image_paths_unique = biggan_image_paths_sample + latentdiff_image_paths_sample + taming_transformer_image_paths_sample"
   ]
  },
  {
   "cell_type": "code",
   "execution_count": 6,
   "id": "309a6d23-a3d9-4972-ab11-2e8a041ee76c",
   "metadata": {},
   "outputs": [],
   "source": [
    "# Creiamo una lista di tuple che rappresentano le righe del dataframe\n",
    "rows_real = []\n",
    "rows_fake = []\n",
    "for _ in range(15000):\n",
    "    anchor_real = random.choice(real_image_paths_unique)\n",
    "    positive_real = random.choice(real_image_paths_unique)\n",
    "    negative_fake = random.choice(fake_image_paths_unique)\n",
    "    rows_real.append((anchor_real, positive_real, negative_fake))\n",
    "\n",
    "for _ in range(15000):\n",
    "    anchor_fake = random.choice(fake_image_paths_unique)\n",
    "    positive_fake = random.choice(fake_image_paths_unique)\n",
    "    negative_real = random.choice(real_image_paths_unique)\n",
    "    rows_fake.append((anchor_fake, positive_fake, negative_real))"
   ]
  },
  {
   "cell_type": "code",
   "execution_count": 7,
   "id": "1cce8b43-aa5b-40b2-9aeb-b7d714f1bd3a",
   "metadata": {},
   "outputs": [],
   "source": [
    "# Mescoliamo casualmente le righe\n",
    "random.shuffle(rows_real)\n",
    "random.shuffle(rows_fake)"
   ]
  },
  {
   "cell_type": "code",
   "execution_count": 8,
   "id": "241b01f3-30a8-49f4-949e-123392064df9",
   "metadata": {},
   "outputs": [],
   "source": [
    "df_real = pd.DataFrame(rows_real, columns=['Anchor', 'Positive', 'Negative'])\n",
    "df_fake = pd.DataFrame(rows_fake, columns=['Anchor', 'Positive', 'Negative'])"
   ]
  },
  {
   "cell_type": "code",
   "execution_count": 9,
   "id": "4d3fd564-8034-48cf-90e1-577f39f1396c",
   "metadata": {},
   "outputs": [],
   "source": [
    "df_real.to_csv('real_image_dataset_coco2.csv', index= False)\n",
    "df_fake.to_csv('fake_image_dataset_biggan_latent_taming.csv', index= False)"
   ]
  },
  {
   "cell_type": "code",
   "execution_count": null,
   "id": "2288c6fd-808e-49a6-8b8e-371da4a23565",
   "metadata": {},
   "outputs": [],
   "source": []
  }
 ],
 "metadata": {
  "kernelspec": {
   "display_name": "Python 3 (ipykernel)",
   "language": "python",
   "name": "python3"
  },
  "language_info": {
   "codemirror_mode": {
    "name": "ipython",
    "version": 3
   },
   "file_extension": ".py",
   "mimetype": "text/x-python",
   "name": "python",
   "nbconvert_exporter": "python",
   "pygments_lexer": "ipython3",
   "version": "3.11.9"
  }
 },
 "nbformat": 4,
 "nbformat_minor": 5
}
