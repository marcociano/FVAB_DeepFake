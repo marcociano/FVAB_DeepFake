{
 "cells": [
  {
   "cell_type": "code",
   "execution_count": 12,
   "id": "4d50f5bf-65a8-459d-965d-c7b043d826a9",
   "metadata": {},
   "outputs": [],
   "source": [
    "import os\n",
    "import pandas as pd\n",
    "import random"
   ]
  },
  {
   "cell_type": "code",
   "execution_count": 13,
   "id": "f3d8a9ed-5041-45f0-94e5-632d6baf1962",
   "metadata": {},
   "outputs": [
    {
     "name": "stdout",
     "output_type": "stream",
     "text": [
      "Numero di file trovati: 19000\n",
      "Numero di file trovati: 40646\n",
      "File CSV 'test_set_stableDiffusion(1000_stableDIffusion-1000_coco)_2train.csv' creato con successo.\n"
     ]
    }
   ],
   "source": [
    "current_dir = os.getcwd()\n",
    "fake_dir = os.path.join(current_dir, \"dataset\", \"stable_diffusion\", \"stable\", \"images_spectrum\")\n",
    "real_dir = os.path.join(current_dir, \"dataset\", \"coco\", \"coco\", \"coco2017\", \"test_spectrum\")\n",
    "\n",
    "# Verifica che la directory esista\n",
    "if not os.path.exists(fake_dir):\n",
    "    raise FileNotFoundError(f\"La directory {fake_dir} non esiste.\")\n",
    "\n",
    "# Raccogli tutti i percorsi relativi delle immagini\n",
    "fake_paths = []\n",
    "for root, dirs, files in os.walk(fake_dir):\n",
    "    for filename in files:\n",
    "        if filename.lower().endswith('.jpg'):\n",
    "            relative_fake_path = os.path.relpath(os.path.join(root, filename), current_dir)\n",
    "            fake_paths.append(relative_fake_path)\n",
    "\n",
    "real_paths = []\n",
    "for root, dirs, files in os.walk(real_dir):\n",
    "    for filename in files:\n",
    "        if filename.lower().endswith('.jpg'):\n",
    "            relative_real_path = os.path.relpath(os.path.join(root, filename), current_dir)\n",
    "            real_paths.append(relative_real_path)\n",
    "\n",
    "\n",
    "# Debug: Stampa il numero di file trovati\n",
    "print(f\"Numero di file trovati: {len(fake_paths)}\")\n",
    "\n",
    "# Debug: Stampa il numero di file trovati\n",
    "print(f\"Numero di file trovati: {len(real_paths)}\")\n",
    "\n",
    "\n",
    "fake_paths = fake_paths[1500:2500]\n",
    "real_paths = real_paths[:1000]\n",
    "\n",
    "# Crea un DataFrame\n",
    "df_fake = pd.DataFrame(fake_paths)\n",
    "df_real = pd.DataFrame(real_paths)\n",
    "\n",
    "df_combined = pd.concat([df_fake, df_real], ignore_index = True)\n",
    "\n",
    "# Specifica il nome del file CSV da creare\n",
    "csv_file = \"test_set_stableDiffusion(1000_stableDIffusion-1000_coco)_2train.csv\"\n",
    "\n",
    "# Scrivi il DataFrame in un file CSV senza header\n",
    "df_combined.to_csv(csv_file, index=False, header=False)\n",
    "\n",
    "print(f\"File CSV '{csv_file}' creato con successo.\")"
   ]
  },
  {
   "cell_type": "code",
   "execution_count": null,
   "id": "0b215582-9767-4544-8f71-3f7f60a4d484",
   "metadata": {},
   "outputs": [],
   "source": []
  }
 ],
 "metadata": {
  "kernelspec": {
   "display_name": "Python 3 (ipykernel)",
   "language": "python",
   "name": "python3"
  },
  "language_info": {
   "codemirror_mode": {
    "name": "ipython",
    "version": 3
   },
   "file_extension": ".py",
   "mimetype": "text/x-python",
   "name": "python",
   "nbconvert_exporter": "python",
   "pygments_lexer": "ipython3",
   "version": "3.11.9"
  }
 },
 "nbformat": 4,
 "nbformat_minor": 5
}
